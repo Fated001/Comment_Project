{
  "nbformat": 4,
  "nbformat_minor": 0,
  "metadata": {
    "colab": {
      "name": "Teacher Comment Writing.ipynb",
      "version": "0.3.2",
      "provenance": [],
      "collapsed_sections": []
    },
    "kernelspec": {
      "name": "python3",
      "display_name": "Python 3"
    }
  },
  "cells": [
    {
      "metadata": {
        "id": "Q1DXt-tzKdSq",
        "colab_type": "code",
        "outputId": "0b6294ee-2829-462b-9608-ea3c08461fea",
        "colab": {
          "base_uri": "https://localhost:8080/",
          "height": 319
        }
      },
      "cell_type": "code",
      "source": [
        "!pip install pycodestyle flake8\n",
        "!pip install pycodestyle_magic\n",
        "%load_ext pycodestyle_magic"
      ],
      "execution_count": 2,
      "outputs": [
        {
          "output_type": "stream",
          "text": [
            "Collecting pycodestyle\n",
            "\u001b[?25l  Downloading https://files.pythonhosted.org/packages/0e/0c/04a353e104d2f324f8ee5f4b32012618c1c86dd79e52a433b64fceed511b/pycodestyle-2.5.0-py2.py3-none-any.whl (51kB)\n",
            "\u001b[K    100% |████████████████████████████████| 51kB 2.1MB/s \n",
            "\u001b[?25hCollecting flake8\n",
            "\u001b[?25l  Downloading https://files.pythonhosted.org/packages/5a/d8/1377549a9b77ad6d3c8161c741e2186bc698150f639fe08123bfe53e7a27/flake8-3.7.5-py2.py3-none-any.whl (68kB)\n",
            "\u001b[K    100% |████████████████████████████████| 71kB 5.2MB/s \n",
            "\u001b[?25hCollecting mccabe<0.7.0,>=0.6.0 (from flake8)\n",
            "  Downloading https://files.pythonhosted.org/packages/87/89/479dc97e18549e21354893e4ee4ef36db1d237534982482c3681ee6e7b57/mccabe-0.6.1-py2.py3-none-any.whl\n",
            "Requirement already satisfied: entrypoints<0.4.0,>=0.3.0 in /usr/local/lib/python3.6/dist-packages (from flake8) (0.3)\n",
            "Collecting pyflakes<2.2.0,>=2.1.0 (from flake8)\n",
            "\u001b[?25l  Downloading https://files.pythonhosted.org/packages/16/3b/b6a508ad148ce1ef50bd7a9a783afbb8d775616fc4ae5e3007c8815a3c85/pyflakes-2.1.0-py2.py3-none-any.whl (62kB)\n",
            "\u001b[K    100% |████████████████████████████████| 71kB 20.8MB/s \n",
            "\u001b[?25hInstalling collected packages: pycodestyle, mccabe, pyflakes, flake8\n",
            "Successfully installed flake8-3.7.5 mccabe-0.6.1 pycodestyle-2.5.0 pyflakes-2.1.0\n",
            "Collecting pycodestyle_magic\n",
            "  Downloading https://files.pythonhosted.org/packages/8a/45/9f0f65ab41d816bed8d37c32e61d2ff49f0b03ef2278ee15aeb6fb8e1ec5/pycodestyle_magic-0.2.5-py2.py3-none-any.whl\n",
            "Installing collected packages: pycodestyle-magic\n",
            "Successfully installed pycodestyle-magic-0.2.5\n"
          ],
          "name": "stdout"
        }
      ]
    },
    {
      "metadata": {
        "id": "-3ez2v-2LU83",
        "colab_type": "code",
        "colab": {}
      },
      "cell_type": "code",
      "source": [
        "%%pycodestyle\n",
        "import pandas as pd\n",
        "from google.colab import auth\n",
        "import gspread\n",
        "from oauth2client.client import GoogleCredentials\n",
        "auth.authenticate_user()\n",
        "\n",
        "\n",
        "def Grades(scores):\n",
        "    '''Calculate the final grade given the final scores'''\n",
        "    if scores >= 90:\n",
        "        return 'A'\n",
        "    elif scores >= 80:\n",
        "        return 'B'\n",
        "    elif scores >= 70:\n",
        "        return 'C'\n",
        "    elif scores >= 60:\n",
        "        return 'D'\n",
        "    else:\n",
        "        return 'F'\n",
        "\n",
        "\n",
        "def to_tuple(*strings):\n",
        "    '''Change datatype of a dataframe column from str in (a, b, c,...) format\n",
        "    to tuples'''\n",
        "    import re\n",
        "    out = []\n",
        "    for string in strings:\n",
        "        for x in string:\n",
        "            nums = re.findall(\"[0-9]+\", x)\n",
        "            nums = list(map(float, nums))\n",
        "            out.append(tuple(nums))\n",
        "    return out\n",
        "\n",
        "\n",
        "def avg(*nums):\n",
        "    '''Find the average of a dataframe column of the dataframe'''\n",
        "    out = []\n",
        "    for t in nums:\n",
        "        for x in t:\n",
        "            out.append(sum(x)/len(x))\n",
        "    return out\n",
        "\n",
        "\n",
        "# Import data from google sheets\n",
        "gc = gspread.authorize(GoogleCredentials.get_application_default())\n",
        "worksheet = gc.open('Efforts_for_Lauren_Shareshian\\'s_future_'\n",
        "                    'leisure _wellness').sheet1\n",
        "\n",
        "# get_all_values gives a list of rows.\n",
        "rows = worksheet.get_all_values()\n",
        "\n",
        "# Convert to a DataFrame and render.\n",
        "df = pd.DataFrame.from_records(rows)\n",
        "\n",
        "# Changing the header\n",
        "x = df.iloc[[0]]\n",
        "x = x.values\n",
        "df.columns = x[0]\n",
        "df = df.drop(0)\n",
        "\n",
        "# Change str to int\n",
        "df[\"Midterm\"] = pd.to_numeric(df[\"Midterm\"])\n",
        "df[\"Bank Project\"] = pd.to_numeric(df[\"Bank Project\"])\n",
        "\n",
        "# Change str to tuple\n",
        "df[[\"Assignments\", \"Problem Sets\",\n",
        "    \"Quizzes\"]] = df[[\"Assignments\", \"Problem Sets\",\n",
        "                      \"Quizzes\"]] .apply(to_tuple)\n",
        "df[[\"avg_Assign\", \"avg_PS\",\n",
        "    \"avg_Quizzes\"]] = df[[\"Assignments\", \"Problem Sets\",\n",
        "                          \"Quizzes\"]].apply(avg)\n",
        "\n",
        "# Calculating the final scores and grades\n",
        "df[\"Scores\"] = (0.4 * df[\"avg_Assign\"] +\n",
        "                0.2 * (df[\"avg_PS\"] + df[\"Bank Project\"]) +\n",
        "                0.1 * (df[\"avg_Quizzes\"] + df[\"Midterm\"]))\n",
        "\n",
        "df[\"Grades\"] = df[\"Scores\"].apply(Grades)\n",
        "\n",
        "df  # Displaying the dataframe"
      ],
      "execution_count": 0,
      "outputs": []
    },
    {
      "metadata": {
        "id": "LVGNLUhQRFQ-",
        "colab_type": "code",
        "colab": {}
      },
      "cell_type": "code",
      "source": [
        "%%pycodestyle\n",
        "def gender(pnoun):\n",
        "    '''\n",
        "    returns correct form of pronoun according to the\n",
        "    preferred gender of the student\n",
        "    '''\n",
        "    if df['Gender'][student_num] == 'M':\n",
        "        return pnoun\n",
        "    elif df['Gender'][student_num] == 'F':\n",
        "        if pnoun.lower() == 'he':\n",
        "            return \"she\"\n",
        "        elif pnoun.lower() == 'his':\n",
        "            return 'her'\n",
        "        elif pnoun.lower() == 'him':\n",
        "            return 'her'\n",
        "        elif pnoun.lower() == 'himself':\n",
        "            return 'herself'\n",
        "    elif df['Gender'][student_num] == 'O':\n",
        "        if pnoun.lower() == 'he':\n",
        "            return 'they'\n",
        "        elif pnoun.lower() == 'his':\n",
        "            return 'their'\n",
        "        elif pnoun.lower() == 'him':\n",
        "            return 'them'\n",
        "        elif pnoun.lower() == 'himself':\n",
        "            return 'themselves'"
      ],
      "execution_count": 0,
      "outputs": []
    },
    {
      "metadata": {
        "id": "jefD_Ti_dP_9",
        "colab_type": "code",
        "colab": {}
      },
      "cell_type": "code",
      "source": [
        "%%pycodestyle\n",
        "def gender_Upper(pnoun):\n",
        "    '''\n",
        "    Returns title case pronoun\n",
        "    '''\n",
        "    return gender(pnoun).title()"
      ],
      "execution_count": 0,
      "outputs": []
    },
    {
      "metadata": {
        "colab_type": "code",
        "id": "DVSzV7zW78k8",
        "colab": {}
      },
      "cell_type": "code",
      "source": [
        "%%pycodestyle\n",
        "def article_letter(word):\n",
        "    '''\n",
        "    accounts for vowels at the start of words\n",
        "    '''\n",
        "    vowels = ['a', 'e', 'i', 'o', 'u']\n",
        "    if word.lower()[0] in vowels:\n",
        "        return 'an ' + word\n",
        "    else:\n",
        "        return 'a ' + word"
      ],
      "execution_count": 0,
      "outputs": []
    },
    {
      "metadata": {
        "id": "sVIr_TZA66aw",
        "colab_type": "code",
        "colab": {}
      },
      "cell_type": "code",
      "source": [
        "%%pycodestyle\n",
        "def next_semester(student_num):\n",
        "    '''\n",
        "    Brief concluding sentence about the hopeful progress of the student\n",
        "    next semester\n",
        "    '''\n",
        "    if df['Grades'][student_num] == 'A':\n",
        "        return (f\"I look forward to {gender('his')} continued success next \"\n",
        "                f'semester as we have lots of fun coding :)')\n",
        "    if df['Grades'][student_num] == 'B':\n",
        "        return f\"That is all.\"\n",
        "    if df['Grades'][student_num] == 'C':\n",
        "        return (f\"If {name(student_num)} can commit to putting forth \"\n",
        "                \"consistent effort into the daily and nightly work and to \"\n",
        "                \"stopping by for extra help regularly, then I am confident \"\n",
        "                f\"that {gender('he')} will enjoy more success \"\n",
        "                \"in the spring semester.\")\n",
        "    else:\n",
        "        return f\"{gender_Upper('he')} must repeat this course.\""
      ],
      "execution_count": 0,
      "outputs": []
    },
    {
      "metadata": {
        "id": "00U9dygrhKEE",
        "colab_type": "code",
        "colab": {}
      },
      "cell_type": "code",
      "source": [
        "%%pycodestyle\n",
        "def article_num(score):\n",
        "    '''\n",
        "    accuonts for a/an with numbers\n",
        "    '''\n",
        "    if str(score)[0] == '8':\n",
        "        return 'an'\n",
        "    else:\n",
        "        return 'a'"
      ],
      "execution_count": 0,
      "outputs": []
    },
    {
      "metadata": {
        "id": "aLulkJoyeoQG",
        "colab_type": "code",
        "colab": {}
      },
      "cell_type": "code",
      "source": [
        "%%pycodestyle\n",
        "def Bank_Project(score):\n",
        "    '''\n",
        "    sentence about the bank project\n",
        "    '''\n",
        "    effort = 'good'\n",
        "    if int(score) < 85:\n",
        "        effort = 'unsatisfactory'\n",
        "    if int(score) > 95:\n",
        "        effort = 'excellent'\n",
        "    return (f'{gender_Upper(\"his\")} group Bank Project grade was '\n",
        "            f'{article_num(df[\"Bank Project\"][student_num])} '\n",
        "            f'{df[\"Bank Project\"][student_num]}%, which indicated that '\n",
        "            f'{gender(\"his\")} effort, time management, and collaboration '\n",
        "            f'relating to larger group assignments was {effort}.')"
      ],
      "execution_count": 0,
      "outputs": []
    },
    {
      "metadata": {
        "id": "MUweTQ5Pmuac",
        "colab_type": "code",
        "colab": {}
      },
      "cell_type": "code",
      "source": [
        "%%pycodestyle\n",
        "def Hackathon_func(effort):\n",
        "    '''\n",
        "    Sentence that mentions the student's effort in the hackathon.\n",
        "    '''\n",
        "    if effort == 'bad':\n",
        "        return (f\"{gender('he')} tended to lose focus when we participated in \"\n",
        "                \"the Hackathons. These assignments allowed students to put \"\n",
        "                f\"forth as much effort as they wished to, and {gender('he')} \"\n",
        "                \"often lost focus instead of working on advancing \"\n",
        "                f\"{gender('his')} skills.\")\n",
        "    else:\n",
        "        return (f\"{gender('he')} demonstrated significant enthusiasm and \"\n",
        "                \"dedication when we participated in the Hackathons. These \"\n",
        "                \"assignments allowed students to put forth as much effort as \"\n",
        "                f\"they wished to, and {gender('he')} chose to use these \"\n",
        "                f\"opportunities to seriously challenge {gender('himself')}, \"\n",
        "                f\"think creatively, and advance {gender('his')} skills.\")"
      ],
      "execution_count": 0,
      "outputs": []
    },
    {
      "metadata": {
        "colab_type": "code",
        "id": "EsBSlEFz8BIg",
        "colab": {}
      },
      "cell_type": "code",
      "source": [
        "%%pycodestyle\n",
        "def name(student_num):\n",
        "    '''\n",
        "    returns student's name\n",
        "    '''\n",
        "    return df[\"Name\"][student_num]"
      ],
      "execution_count": 0,
      "outputs": []
    },
    {
      "metadata": {
        "colab_type": "code",
        "id": "ZhqNjF_w8BIi",
        "colab": {}
      },
      "cell_type": "code",
      "source": [
        "%%pycodestyle\n",
        "def quote(student_num):\n",
        "    '''\n",
        "    returns student's quote\n",
        "    '''\n",
        "    return df[\"Reflection_quotes\"][student_num]"
      ],
      "execution_count": 0,
      "outputs": []
    },
    {
      "metadata": {
        "colab_type": "code",
        "id": "kunYfIjk8BIk",
        "colab": {}
      },
      "cell_type": "code",
      "source": [
        "%%pycodestyle\n",
        "def avg_PS(student_num):\n",
        "    '''\n",
        "    returns student's average p set score\n",
        "    '''\n",
        "    return df[\"avg_PS\"][student_num]"
      ],
      "execution_count": 0,
      "outputs": []
    },
    {
      "metadata": {
        "colab_type": "code",
        "id": "Jn4t9-SR8BIm",
        "colab": {}
      },
      "cell_type": "code",
      "source": [
        "%%pycodestyle\n",
        "def avg_Quizzes(student_num):\n",
        "    '''\n",
        "    returns student's average quiz score\n",
        "    '''\n",
        "    return df[\"avg_Quizzes\"][student_num]"
      ],
      "execution_count": 0,
      "outputs": []
    },
    {
      "metadata": {
        "colab_type": "code",
        "id": "XzKr6sjR8BIo",
        "colab": {}
      },
      "cell_type": "code",
      "source": [
        "%%pycodestyle\n",
        "def Midterm(student_num):\n",
        "    '''\n",
        "    returns the student's midterm score\n",
        "    '''\n",
        "    return df[\"Midterm\"][student_num]"
      ],
      "execution_count": 0,
      "outputs": []
    },
    {
      "metadata": {
        "colab_type": "code",
        "id": "vJPU2bGc8BIq",
        "colab": {}
      },
      "cell_type": "code",
      "source": [
        "%%pycodestyle\n",
        "def Lauren_overall_satisfaction(student_num):\n",
        "    \"\"\"\n",
        "    Sentence about Lauren's overal satisfaciton with the student\n",
        "    \"\"\"\n",
        "    if df[\"Grades\"][student_num] == 'A' or df[\"Grades\"][student_num] == 'B':\n",
        "        return (f\"I am pleased with {name(student_num)}’s progress this \"\n",
        "                \"semester\")\n",
        "    elif df[\"Grades\"][student_num] == 'C' or df[\"Grades\"][student_num] == 'D':\n",
        "        return (f\"{gender_Upper('he')} {plural('has')} encountered difficulty \"\n",
        "                f\"this semester but {gender('he')} {plural('is')} persevering\")\n",
        "    else:\n",
        "        return \"Good luck next semester\""
      ],
      "execution_count": 0,
      "outputs": []
    },
    {
      "metadata": {
        "colab_type": "code",
        "id": "yMM9zGAa8BIr",
        "colab": {}
      },
      "cell_type": "code",
      "source": [
        "%%pycodestyle\n",
        "def Lauren_Quizzes_satisfaction(student_num):\n",
        "    \"\"\"\n",
        "    Sentence about Lauren's overal satisfaciton with the student's quizzes\n",
        "    \"\"\"\n",
        "    if (avg_Quizzes(student_num) + Midterm(student_num)) >= 160:\n",
        "        return (\" grasped the new content thoroughly and could hand write\"\n",
        "                \" algorithms without using outside resources\")\n",
        "    elif (avg_Quizzes(student_num) + Midterm(student_num)) < 120:\n",
        "        return (\" had magnificent understanding of Lauren Shareshian \"\n",
        "                \"but not her class\")\n",
        "    else:\n",
        "        return (\" did not grasp the new content thoroughly and could not hand \"\n",
        "                \"write algorithms without using outside resources\")"
      ],
      "execution_count": 0,
      "outputs": []
    },
    {
      "metadata": {
        "colab_type": "code",
        "id": "34ZbdYnI8BI5",
        "colab": {}
      },
      "cell_type": "code",
      "source": [
        "%%pycodestyle\n",
        "def resources(student_num):\n",
        "    '''\n",
        "    Sentence about the studnet's use of Stack Overflow\n",
        "    '''\n",
        "    if df[\"Outside_Resources\"][student_num] == 'yes':\n",
        "        return (\"wisely utilized these resources to troubleshoot and gain \"\n",
        "                \"inspiration and internalized the solutions that \"\n",
        "                f\"{gender('he')} found\")\n",
        "    else:\n",
        "        return (\"sometimes used these resources without fully understanding \"\n",
        "                \"what the code did\")"
      ],
      "execution_count": 0,
      "outputs": []
    },
    {
      "metadata": {
        "colab_type": "code",
        "id": "KDr5lQ27_i-T",
        "colab": {}
      },
      "cell_type": "code",
      "source": [
        "%%pycodestyle\n",
        "def Lauren_ps_satisfaction(student_num):\n",
        "    \"\"\"\n",
        "    Sentence about Lauren's overal satisfaciton with the student's p sets\n",
        "    \"\"\"\n",
        "    if avg_PS(student_num) >= 80:\n",
        "        return (\" had a solid understanding of the majority of the topics \"\n",
        "                \"covered this semester and that \" + gender('he') +\n",
        "                f\" {plural('was')} consistent about meeting deadlines\")\n",
        "    elif avg_PS(student_num) < 60:\n",
        "        return (\" had magnificent understanding of Lauren Shareshian \"\n",
        "                \"but not her class\")\n",
        "    else:\n",
        "        return (f\" had gaps in {gender('his')} understanding and \"\n",
        "                f\"{plural('was')} inconsistent about meeting deadlines\")"
      ],
      "execution_count": 0,
      "outputs": []
    },
    {
      "metadata": {
        "colab_type": "code",
        "id": "1mcnsJcm_i-X",
        "colab": {}
      },
      "cell_type": "code",
      "source": [
        "%%pycodestyle\n",
        "def daily_work(student_num):\n",
        "    '''\n",
        "    Comment about student's daily work habits\n",
        "    '''\n",
        "    if df[\"Daily\"][student_num] == 'alone':\n",
        "        if df[\"Grades\"][student_num] == 'A' or (df[\"Grades\"]\n",
        "                                                [student_num] == 'B'):\n",
        "            return (gender('he') + \" worked mostly alone and \" + gender('he') +\n",
        "                    f\" {plural('was')} happy to help a classmate when they \"\n",
        "                    \"got stuck.\")\n",
        "        else:\n",
        "            return (\"it would have been beneficial for \" + gender('him') +\n",
        "                    \" to work with \" + gender('his') + \" classmates rather \"\n",
        "                    \"than working alone.\")\n",
        "    if df[\"Daily\"][student_num] == 'group':\n",
        "        if df[\"Grades\"][student_num] == 'A' or (df[\"Grades\"]\n",
        "                                                [student_num] == 'B'):\n",
        "            return (gender('he') + \" worked mostly in groups and\" +\n",
        "                    gender('he') + f\" {plural('was')} happy to help a \"\n",
        "                    \"classmate when they got stuck.\")\n",
        "        if df[\"Grades\"][student_num] == 'D':\n",
        "            return (gender('he') + \" worked mostly in groups and the works in \"\n",
        "                    \"groups were really helpful for \" + gender('him'))\n",
        "        else:\n",
        "            return (f\"{gender('he')} {plural('was')} never on task and \"\n",
        "                    f\"{plural('was')} a \"\n",
        "                    f\"distraction to {gender('his')} peers.\")\n"
      ],
      "execution_count": 0,
      "outputs": []
    },
    {
      "metadata": {
        "colab_type": "code",
        "id": "Coq4LBUH_i-e",
        "colab": {}
      },
      "cell_type": "code",
      "source": [
        "%%pycodestyle\n",
        "def extra_help(student_num):\n",
        "    '''\n",
        "    Sentence detailing if student seeks extra help\n",
        "    '''\n",
        "    if df[\"Extra Help\"][student_num] == \"no\":\n",
        "        if df[\"Grades\"][student_num] == 'A' or (df[\"Grades\"]\n",
        "                                                [student_num] == 'B'):\n",
        "            return (\"rarely if ever needed to do so because \" + gender(\"he\") +\n",
        "                    f\" {plural('was')} so easily able to pick up the concepts \"\n",
        "                    \"in class.\")\n",
        "        else:\n",
        "            return (\"rarely do so but I would like \" + gender(\"him\") +\n",
        "                    \" to come for extra help\")\n",
        "    if df[\"Extra Help\"][student_num] == \"yes\":\n",
        "        return (f\"frequently {plural('asks')} for extra help. \"\n",
        "                \"Keep up the good inquiries\")"
      ],
      "execution_count": 0,
      "outputs": []
    },
    {
      "metadata": {
        "colab_type": "code",
        "id": "qodq5Hcx_i-k",
        "colab": {}
      },
      "cell_type": "code",
      "source": [
        "%%pycodestyle\n",
        "def plural(verbform):\n",
        "    '''\n",
        "    changes verb to plural when gender non-binary\n",
        "    '''\n",
        "    if df['Gender'][student_num] == 'O':\n",
        "        if verbform == 'is':\n",
        "            return 'are'\n",
        "        elif verbform == 'was':\n",
        "            return 'were'\n",
        "        elif verbform == 'has':\n",
        "            return 'have'\n",
        "        elif verbform == 'asks':\n",
        "            return 'ask'\n",
        "    else:\n",
        "        return verbform"
      ],
      "execution_count": 0,
      "outputs": []
    },
    {
      "metadata": {
        "id": "l9dxJwU5dVCE",
        "colab_type": "code",
        "colab": {}
      },
      "cell_type": "code",
      "source": [
        "%%pycodestyle\n",
        "def first_para(student_num):\n",
        "    '''\n",
        "    write out first paragraph\n",
        "    '''\n",
        "    return (\"In the first semester, we covered the fundamentals of Python, \"\n",
        "            \"including loops, conditionals, functions, and dictionaries. \"\n",
        "            \"In addition, we explored connections between math and computer \"\n",
        "            \"science, including plotting, simulating the game of craps, and \"\n",
        "            \"optimizing customer service at a bank. During second semester, \"\n",
        "            \"we plan to focus more on group projects and data analysis.\")"
      ],
      "execution_count": 0,
      "outputs": []
    },
    {
      "metadata": {
        "id": "gQzXaOXJdjLP",
        "colab_type": "code",
        "colab": {}
      },
      "cell_type": "code",
      "source": [
        "%%pycodestyle\n",
        "def second_para(student_num):\n",
        "    '''\n",
        "    write out second paragraph\n",
        "    '''\n",
        "    return f\"In {name(student_num)}'s self reflection, {gender('he')} wrote:\""
      ],
      "execution_count": 0,
      "outputs": []
    },
    {
      "metadata": {
        "id": "xgeYwesgdqhg",
        "colab_type": "code",
        "colab": {}
      },
      "cell_type": "code",
      "source": [
        "%%pycodestyle\n",
        "def third_para(student_num):\n",
        "    '''\n",
        "    write out third paragraph\n",
        "    '''\n",
        "    return f'\"{quote(student_num)}\"'"
      ],
      "execution_count": 0,
      "outputs": []
    },
    {
      "metadata": {
        "id": "Okf35vlydqvV",
        "colab_type": "code",
        "colab": {}
      },
      "cell_type": "code",
      "source": [
        "%%pycodestyle\n",
        "def fourth_para(student_num):\n",
        "    '''\n",
        "    write out fourth paragraph\n",
        "    '''\n",
        "    return (f\"{Lauren_overall_satisfaction(student_num)}. \"\n",
        "            f\"{gender_Upper('his')} problem set average was \"\n",
        "            f\"{avg_PS(student_num)}%, which indicates that {gender('he')}\"\n",
        "            f\"{Lauren_ps_satisfaction(student_num)}. {gender_Upper('his')} \"\n",
        "            \"quiz average and final exam score were \"\n",
        "            f\"{avg_Quizzes(student_num)}% and {Midterm(student_num)}%, \"\n",
        "            f\"respectively, which demonstrated that \"\n",
        "            f\"{gender('he')}{Lauren_Quizzes_satisfaction(student_num)}.\")"
      ],
      "execution_count": 0,
      "outputs": []
    },
    {
      "metadata": {
        "id": "B58KayB9dqzj",
        "colab_type": "code",
        "colab": {}
      },
      "cell_type": "code",
      "source": [
        "%%pycodestyle\n",
        "def fifth_para(student_num):\n",
        "    '''\n",
        "    write out fifth paragraph\n",
        "    '''\n",
        "    return (f\"{Bank_Project(df['Bank Project'][student_num])} \"\n",
        "            \"In addition, \"\n",
        "            f\"{Hackathon_func(df['Hackathon participation'][student_num])}\")"
      ],
      "execution_count": 0,
      "outputs": []
    },
    {
      "metadata": {
        "id": "xFfxl4v8eA70",
        "colab_type": "code",
        "colab": {}
      },
      "cell_type": "code",
      "source": [
        "%%pycodestyle\n",
        "def sixth_para(student_num):\n",
        "    '''\n",
        "    write out sixth paragraph\n",
        "    '''\n",
        "    return (f\"On the daily coding activities, {daily_work(student_num)} \"\n",
        "            \"In regard to using available resources like StackOverflow, \"\n",
        "            f\"{gender('he')} {resources(student_num)}. In terms of coming \"\n",
        "            f\"in for extra help, {gender('he')} {extra_help(student_num)}.\")"
      ],
      "execution_count": 0,
      "outputs": []
    },
    {
      "metadata": {
        "id": "7RjeTcuveA-7",
        "colab_type": "code",
        "colab": {}
      },
      "cell_type": "code",
      "source": [
        "%%pycodestyle\n",
        "def seventh_para(student_num):\n",
        "    '''\n",
        "    write out seventh paragraph\n",
        "    '''\n",
        "    return (f\"{name(student_num)}'s grade for the semester is \"\n",
        "            f\"{article_letter(df['Grades'][student_num])}. \"\n",
        "            f\"{next_semester(student_num)}\")"
      ],
      "execution_count": 0,
      "outputs": []
    },
    {
      "metadata": {
        "colab_type": "code",
        "id": "RHcDGT70rMzJ",
        "colab": {}
      },
      "cell_type": "code",
      "source": [
        "%%pycodestyle\n",
        "from google.colab import files\n",
        "\n",
        "# download the comment for each student as txt file\n",
        "\n",
        "for student_num in range(1, df.shape[0]+1):\n",
        "    with open(f'{df[\"Name\"][student_num]}.txt', 'w') as f:\n",
        "        f.write(first_para(student_num) + '\\n')\n",
        "        f.write(second_para(student_num) + '\\n')\n",
        "        f.write(third_para(student_num) + '\\n')\n",
        "        f.write(fourth_para(student_num) + '\\n')\n",
        "        f.write(fifth_para(student_num) + '\\n')\n",
        "        f.write(sixth_para(student_num) + '\\n')\n",
        "        f.write(seventh_para(student_num) + '\\n')\n",
        "    files.download(f'{df[\"Name\"][student_num]}.txt')"
      ],
      "execution_count": 0,
      "outputs": []
    },
    {
      "metadata": {
        "id": "2CF_iZ5LOPHw",
        "colab_type": "code",
        "colab": {}
      },
      "cell_type": "code",
      "source": [
        ""
      ],
      "execution_count": 0,
      "outputs": []
    }
  ]
}